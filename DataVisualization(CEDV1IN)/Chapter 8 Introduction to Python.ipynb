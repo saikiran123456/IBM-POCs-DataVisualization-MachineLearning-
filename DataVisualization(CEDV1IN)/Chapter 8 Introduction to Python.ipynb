{
 "cells": [
  {
   "cell_type": "markdown",
   "id": "e5c486fb",
   "metadata": {},
   "source": [
    "# Chapter 8: Introduction to Python"
   ]
  },
  {
   "cell_type": "markdown",
   "id": "e70bc158",
   "metadata": {},
   "source": [
    "## Python scripting basics"
   ]
  },
  {
   "cell_type": "code",
   "execution_count": 189,
   "id": "367ba87b",
   "metadata": {
    "scrolled": true
   },
   "outputs": [
    {
     "name": "stdout",
     "output_type": "stream",
     "text": [
      "Hello World !\n"
     ]
    }
   ],
   "source": [
    "# First Program in Python\n",
    "# Let’s try your first program in Python.\n",
    "print(\"Hello World !\")\n"
   ]
  },
  {
   "cell_type": "code",
   "execution_count": null,
   "id": "37679f78",
   "metadata": {},
   "outputs": [],
   "source": [
    "A statement or expression is an instruction the computer will run or execute. \n",
    "Perhaps the simplest program you can write is a print statement. When you run the print statement, Python will simply display the value in the parentheses. \n",
    "The value in the parentheses is called the argument."
   ]
  },
  {
   "cell_type": "markdown",
   "id": "b11f362f",
   "metadata": {},
   "source": [
    "## Data Types\n",
    "A type is how Python represents different types of data. You can have different types in Python. They can be integers like 11, real numbers like 21.213. They can even be words.\n"
   ]
  },
  {
   "cell_type": "code",
   "execution_count": 47,
   "id": "a5d2cc89",
   "metadata": {},
   "outputs": [
    {
     "data": {
      "text/plain": [
       "float"
      ]
     },
     "execution_count": 47,
     "metadata": {},
     "output_type": "execute_result"
    }
   ],
   "source": [
    "type(21.213)"
   ]
  },
  {
   "cell_type": "code",
   "execution_count": 48,
   "id": "33791503",
   "metadata": {},
   "outputs": [
    {
     "data": {
      "text/plain": [
       "2.0"
      ]
     },
     "execution_count": 48,
     "metadata": {},
     "output_type": "execute_result"
    }
   ],
   "source": [
    "float(2)"
   ]
  },
  {
   "cell_type": "code",
   "execution_count": 49,
   "id": "11311dd3",
   "metadata": {},
   "outputs": [
    {
     "data": {
      "text/plain": [
       "2"
      ]
     },
     "execution_count": 49,
     "metadata": {},
     "output_type": "execute_result"
    }
   ],
   "source": [
    "int(2.4)"
   ]
  },
  {
   "cell_type": "code",
   "execution_count": 50,
   "id": "34df7c56",
   "metadata": {},
   "outputs": [
    {
     "data": {
      "text/plain": [
       "0"
      ]
     },
     "execution_count": 50,
     "metadata": {},
     "output_type": "execute_result"
    }
   ],
   "source": [
    "int(0.6)"
   ]
  },
  {
   "cell_type": "code",
   "execution_count": 51,
   "id": "21015688",
   "metadata": {},
   "outputs": [
    {
     "data": {
      "text/plain": [
       "str"
      ]
     },
     "execution_count": 51,
     "metadata": {},
     "output_type": "execute_result"
    }
   ],
   "source": [
    "type(\"Hello\")"
   ]
  },
  {
   "cell_type": "markdown",
   "id": "a86e2ad5",
   "metadata": {},
   "source": [
    "The following chart summarizes three data types for the last examples. The first column indicates the expression. The second Column indicates the data type. We can see the actual data type in Python by using the type command. We can have int, which stands for an integer, and float that stands for float, essentially a real number. The type string is a sequence of characters."
   ]
  },
  {
   "cell_type": "markdown",
   "id": "d4957efc",
   "metadata": {},
   "source": [
    "Integers can be negative or positive. It should be noted that there is a finite range of integers, but it is quite large. \n",
    "\n",
    "Floats are real numbers; they include the integers but also numbers in between the integers\n",
    "Consider the numbers between 0 and 1. We can select numbers in between them; these numbers are floats. \n",
    "Similarly, consider the numbers between 0.5 and 0.6. We can select numbers in-between them; these are floats as well.\n"
   ]
  },
  {
   "cell_type": "markdown",
   "id": "baf02295",
   "metadata": {},
   "source": [
    "You can change the type of the expression in Python; this is called type-casting. You can convert an int to a float. \n",
    "For example, you can convert or cast the integer 2 to a float 2."
   ]
  },
  {
   "cell_type": "code",
   "execution_count": 52,
   "id": "bcdfbf10",
   "metadata": {},
   "outputs": [
    {
     "data": {
      "text/plain": [
       "2.0"
      ]
     },
     "execution_count": 52,
     "metadata": {},
     "output_type": "execute_result"
    }
   ],
   "source": [
    "float(2)"
   ]
  },
  {
   "cell_type": "code",
   "execution_count": 53,
   "id": "9329c846",
   "metadata": {},
   "outputs": [
    {
     "data": {
      "text/plain": [
       "2"
      ]
     },
     "execution_count": 53,
     "metadata": {},
     "output_type": "execute_result"
    }
   ],
   "source": [
    "int(2.3)"
   ]
  },
  {
   "cell_type": "markdown",
   "id": "bd7a30c5",
   "metadata": {},
   "source": [
    "If you cast a float to an integer, you must be careful. For example, if you cast the float 1.1 to 1, you will lose some information. If a string contains an integer value, you can convert it to int. If we convert a string that contains a non-integer value, we get an error. \n",
    "\n",
    "You can convert an int to a string or a float to a string."
   ]
  },
  {
   "cell_type": "code",
   "execution_count": null,
   "id": "f28c4f9d",
   "metadata": {},
   "outputs": [],
   "source": []
  },
  {
   "cell_type": "markdown",
   "id": "c24f188a",
   "metadata": {},
   "source": [
    "Boolean is another important type in Python. A Boolean can take on two values. The first value is true, just remember we use an uppercase T. Boolean values can also be false, with an uppercase F. Using the type command on a Boolean value, we obtain the term bool, this is short for Boolean. \n",
    "\n",
    "If we cast a Boolean true to an integer or float, we will get a 1.\n",
    "\n",
    "If we cast a Boolean false to an integer or float, we get a zero. If you cast a 1 to a Boolean, you get a true. Similarly, if you cast a 0 to a Boolean, you get a false."
   ]
  },
  {
   "cell_type": "code",
   "execution_count": 54,
   "id": "8fdc1780",
   "metadata": {},
   "outputs": [
    {
     "data": {
      "text/plain": [
       "1"
      ]
     },
     "execution_count": 54,
     "metadata": {},
     "output_type": "execute_result"
    }
   ],
   "source": [
    "int(True)"
   ]
  },
  {
   "cell_type": "code",
   "execution_count": 55,
   "id": "947a4f7c",
   "metadata": {},
   "outputs": [
    {
     "data": {
      "text/plain": [
       "0"
      ]
     },
     "execution_count": 55,
     "metadata": {},
     "output_type": "execute_result"
    }
   ],
   "source": [
    "int(False)"
   ]
  },
  {
   "cell_type": "code",
   "execution_count": 56,
   "id": "61039c27",
   "metadata": {},
   "outputs": [
    {
     "data": {
      "text/plain": [
       "True"
      ]
     },
     "execution_count": 56,
     "metadata": {},
     "output_type": "execute_result"
    }
   ],
   "source": [
    "bool(1)"
   ]
  },
  {
   "cell_type": "code",
   "execution_count": 57,
   "id": "6bede738",
   "metadata": {},
   "outputs": [
    {
     "data": {
      "text/plain": [
       "False"
      ]
     },
     "execution_count": 57,
     "metadata": {},
     "output_type": "execute_result"
    }
   ],
   "source": [
    "bool(0)"
   ]
  },
  {
   "cell_type": "code",
   "execution_count": 58,
   "id": "4b1da3aa",
   "metadata": {},
   "outputs": [
    {
     "data": {
      "text/plain": [
       "True"
      ]
     },
     "execution_count": 58,
     "metadata": {},
     "output_type": "execute_result"
    }
   ],
   "source": [
    "bool(-32)"
   ]
  },
  {
   "cell_type": "code",
   "execution_count": null,
   "id": "64e653fe",
   "metadata": {},
   "outputs": [],
   "source": []
  },
  {
   "cell_type": "markdown",
   "id": "94a7418c",
   "metadata": {},
   "source": [
    "# String Operations In Python"
   ]
  },
  {
   "cell_type": "markdown",
   "id": "6963e94c",
   "metadata": {},
   "source": [
    "In Python, a string is a sequence of characters. A string is contained within two quotes: You could also use single quotes. A string can be spaces, or digits.\n",
    "A string can also be special characters. \n",
    "\n",
    "We can bind or assign a string to another variable. It is helpful to think of a string as an ordered sequence. Each element in the sequence can be accessed using an index represented by the array of numbers."
   ]
  },
  {
   "cell_type": "code",
   "execution_count": 61,
   "id": "4eb217a2",
   "metadata": {},
   "outputs": [],
   "source": [
    "Name = \"Michael Jackson\"\n",
    "# Positive Indexing starts from(Left to Right ->) 0,1,2,3,4,5\n",
    "#Negative Indexing starts from(Rtght to Left <-)  -1,-2,-13,-4....."
   ]
  },
  {
   "cell_type": "code",
   "execution_count": 62,
   "id": "905e479a",
   "metadata": {},
   "outputs": [
    {
     "data": {
      "text/plain": [
       "'M'"
      ]
     },
     "execution_count": 62,
     "metadata": {},
     "output_type": "execute_result"
    }
   ],
   "source": [
    "Name[0]"
   ]
  },
  {
   "cell_type": "code",
   "execution_count": 63,
   "id": "689ce382",
   "metadata": {},
   "outputs": [
    {
     "data": {
      "text/plain": [
       "'l'"
      ]
     },
     "execution_count": 63,
     "metadata": {},
     "output_type": "execute_result"
    }
   ],
   "source": [
    "Name[6]"
   ]
  },
  {
   "cell_type": "code",
   "execution_count": 64,
   "id": "53660bcb",
   "metadata": {},
   "outputs": [
    {
     "data": {
      "text/plain": [
       "'n'"
      ]
     },
     "execution_count": 64,
     "metadata": {},
     "output_type": "execute_result"
    }
   ],
   "source": [
    "Name[-1] #last element in the String"
   ]
  },
  {
   "cell_type": "code",
   "execution_count": 65,
   "id": "474ba954",
   "metadata": {},
   "outputs": [
    {
     "data": {
      "text/plain": [
       "'M'"
      ]
     },
     "execution_count": 65,
     "metadata": {},
     "output_type": "execute_result"
    }
   ],
   "source": [
    "Name[-15]  #Reverse which i.e 1st element from "
   ]
  },
  {
   "cell_type": "markdown",
   "id": "aff74e97",
   "metadata": {},
   "source": [
    "## Binding the String!"
   ]
  },
  {
   "cell_type": "code",
   "execution_count": 66,
   "id": "95167898",
   "metadata": {},
   "outputs": [
    {
     "data": {
      "text/plain": [
       "'Michael Jackson'"
      ]
     },
     "execution_count": 66,
     "metadata": {},
     "output_type": "execute_result"
    }
   ],
   "source": [
    "Name"
   ]
  },
  {
   "cell_type": "code",
   "execution_count": 67,
   "id": "b196e662",
   "metadata": {},
   "outputs": [
    {
     "data": {
      "text/plain": [
       "'McalJcsn'"
      ]
     },
     "execution_count": 67,
     "metadata": {},
     "output_type": "execute_result"
    }
   ],
   "source": [
    "Name[::2]\n",
    "#The 2 indicates we select every second variable from 0th position of index!"
   ]
  },
  {
   "cell_type": "code",
   "execution_count": 68,
   "id": "fef4a7c2",
   "metadata": {},
   "outputs": [
    {
     "data": {
      "text/plain": [
       "'Mca'"
      ]
     },
     "execution_count": 68,
     "metadata": {},
     "output_type": "execute_result"
    }
   ],
   "source": [
    "Name[0:5:2]\n",
    "# 5 indicates the total size you want to access that string!\n",
    "## In this case. we return every 2nd value up to index four from 0th index!"
   ]
  },
  {
   "cell_type": "code",
   "execution_count": 69,
   "id": "d3b24a6d",
   "metadata": {},
   "outputs": [
    {
     "data": {
      "text/plain": [
       "15"
      ]
     },
     "execution_count": 69,
     "metadata": {},
     "output_type": "execute_result"
    }
   ],
   "source": [
    "# We can use the “Len” command to obtain the length of the string. As there are 15 elements, the result is 15.\n",
    "len(Name)"
   ]
  },
  {
   "cell_type": "code",
   "execution_count": null,
   "id": "9339e5d4",
   "metadata": {},
   "outputs": [],
   "source": []
  },
  {
   "cell_type": "markdown",
   "id": "2b47d586",
   "metadata": {},
   "source": [
    "We can concatenate or combine strings. We use the addition symbols. The result is a new string that is a combination of both"
   ]
  },
  {
   "cell_type": "code",
   "execution_count": 70,
   "id": "1b67f448",
   "metadata": {},
   "outputs": [],
   "source": [
    "Name = \"Bryan Craynston\"\n",
    "Statement = Name + \" is a badass protogonist\""
   ]
  },
  {
   "cell_type": "code",
   "execution_count": 71,
   "id": "778e29a2",
   "metadata": {},
   "outputs": [
    {
     "data": {
      "text/plain": [
       "'Bryan Craynston is a badass protogonist'"
      ]
     },
     "execution_count": 71,
     "metadata": {},
     "output_type": "execute_result"
    }
   ],
   "source": [
    "Statement"
   ]
  },
  {
   "cell_type": "code",
   "execution_count": null,
   "id": "c7157af8",
   "metadata": {},
   "outputs": [],
   "source": []
  },
  {
   "cell_type": "markdown",
   "id": "2f4c7c9a",
   "metadata": {},
   "source": [
    "We can replicate values of a string. We simply multiply the string by the number of times we would like to replicate it, in this case, three. The result is a new string. The new string consists of three copies of the original string. "
   ]
  },
  {
   "cell_type": "code",
   "execution_count": 72,
   "id": "d14336c3",
   "metadata": {},
   "outputs": [
    {
     "data": {
      "text/plain": [
       "' Sid Das Sid Das Sid Das'"
      ]
     },
     "execution_count": 72,
     "metadata": {},
     "output_type": "execute_result"
    }
   ],
   "source": [
    "3 * \" Sid Das\""
   ]
  },
  {
   "cell_type": "markdown",
   "id": "31d7e786",
   "metadata": {},
   "source": [
    "This means you cannot change the value of the string, but you can create a new string."
   ]
  },
  {
   "cell_type": "code",
   "execution_count": null,
   "id": "b7a6b314",
   "metadata": {},
   "outputs": [],
   "source": []
  },
  {
   "cell_type": "code",
   "execution_count": null,
   "id": "e5999c55",
   "metadata": {},
   "outputs": [],
   "source": []
  },
  {
   "cell_type": "markdown",
   "id": "1fde291b",
   "metadata": {},
   "source": [
    "Python COLLECTION (or)Arrays \n",
    "\n",
    "There are four collection data types in the Python programming language:\n",
    "    \n",
    "•Tuple is a collection which is ordered and unchangeable. Allows duplicate members.\n",
    "\n",
    "•List is a collection which is ordered and changeable. Allows duplicate members.\n",
    "\n",
    "•Set is a collection which is unordered and unindexed. No duplicate members.\n",
    "\n",
    "•Dictionary is a collection which is unordered, changeable and indexed. No duplicate members.\n"
   ]
  },
  {
   "cell_type": "code",
   "execution_count": null,
   "id": "5a06f2a6",
   "metadata": {},
   "outputs": [],
   "source": []
  },
  {
   "cell_type": "markdown",
   "id": "b67c4f22",
   "metadata": {},
   "source": [
    "## TUPLES"
   ]
  },
  {
   "cell_type": "markdown",
   "id": "8b0cfd1a",
   "metadata": {},
   "source": [
    "Tuple:\n",
    "tuples are expressed as comma-separated elements within parentheses\n"
   ]
  },
  {
   "cell_type": "code",
   "execution_count": 73,
   "id": "3e6b1461",
   "metadata": {},
   "outputs": [],
   "source": [
    "Example_Tuple_2 = (\"python\", 32, 78, 23)"
   ]
  },
  {
   "cell_type": "code",
   "execution_count": 74,
   "id": "e1a9b77e",
   "metadata": {},
   "outputs": [
    {
     "data": {
      "text/plain": [
       "tuple"
      ]
     },
     "execution_count": 74,
     "metadata": {},
     "output_type": "execute_result"
    }
   ],
   "source": [
    "type(Example_Tuple_2)"
   ]
  },
  {
   "cell_type": "code",
   "execution_count": 193,
   "id": "bd889c16",
   "metadata": {},
   "outputs": [
    {
     "data": {
      "text/plain": [
       "'a'"
      ]
     },
     "execution_count": 193,
     "metadata": {},
     "output_type": "execute_result"
    }
   ],
   "source": [
    "##What is the syntax to obtain the first element of the tuple:\n",
    "A=('a','b','c')\n",
    "A[0]"
   ]
  },
  {
   "cell_type": "code",
   "execution_count": 78,
   "id": "0cb5ef78",
   "metadata": {},
   "outputs": [],
   "source": [
    "Example_Tuple = (2,4,6,2,24,2345)"
   ]
  },
  {
   "cell_type": "code",
   "execution_count": 79,
   "id": "42378bca",
   "metadata": {},
   "outputs": [
    {
     "data": {
      "text/plain": [
       "2"
      ]
     },
     "execution_count": 79,
     "metadata": {},
     "output_type": "execute_result"
    }
   ],
   "source": [
    "# Example_Tuple[0]  #..... Example_Tuple[5]..  till 5 we have this tuple!\n",
    "#or\n",
    "Example_Tuple[-6]  #it will return 1st element at it exceeds the last position with only 1 difference"
   ]
  },
  {
   "cell_type": "code",
   "execution_count": 80,
   "id": "5b130e85",
   "metadata": {},
   "outputs": [
    {
     "ename": "IndexError",
     "evalue": "tuple index out of range",
     "output_type": "error",
     "traceback": [
      "\u001b[1;31m---------------------------------------------------------------------------\u001b[0m",
      "\u001b[1;31mIndexError\u001b[0m                                Traceback (most recent call last)",
      "\u001b[1;32m~\\AppData\\Local\\Temp/ipykernel_9724/542347763.py\u001b[0m in \u001b[0;36m<module>\u001b[1;34m\u001b[0m\n\u001b[1;32m----> 1\u001b[1;33m \u001b[0mExample_Tuple\u001b[0m\u001b[1;33m[\u001b[0m\u001b[1;33m-\u001b[0m\u001b[1;36m7\u001b[0m\u001b[1;33m]\u001b[0m\u001b[1;33m\u001b[0m\u001b[1;33m\u001b[0m\u001b[0m\n\u001b[0m",
      "\u001b[1;31mIndexError\u001b[0m: tuple index out of range"
     ]
    }
   ],
   "source": [
    "Example_Tuple[-7]  #Reverse index starts from -1, -2, -3 ....\n",
    "#and there is no -7th index position"
   ]
  },
  {
   "cell_type": "code",
   "execution_count": 83,
   "id": "6f42681b",
   "metadata": {},
   "outputs": [
    {
     "data": {
      "text/plain": [
       "(2, 4, 6, 2, 24, 2345)"
      ]
     },
     "execution_count": 83,
     "metadata": {},
     "output_type": "execute_result"
    }
   ],
   "source": [
    "Example_Tuple"
   ]
  },
  {
   "cell_type": "code",
   "execution_count": 84,
   "id": "cd3df625",
   "metadata": {},
   "outputs": [
    {
     "data": {
      "text/plain": [
       "4"
      ]
     },
     "execution_count": 84,
     "metadata": {},
     "output_type": "execute_result"
    }
   ],
   "source": [
    "# Example_Tuple[1]\n",
    "#Or\n",
    "Example_Tuple[-5]    # reverse index starts from"
   ]
  },
  {
   "cell_type": "markdown",
   "id": "236f3ca9",
   "metadata": {},
   "source": [
    "In Python, there are different types: strings, integer, float. They can all be contained in a tuple, but the type of the variable is tuple"
   ]
  },
  {
   "cell_type": "code",
   "execution_count": 85,
   "id": "97222084",
   "metadata": {},
   "outputs": [
    {
     "data": {
      "text/plain": [
       "(6, 2, 24)"
      ]
     },
     "execution_count": 85,
     "metadata": {},
     "output_type": "execute_result"
    }
   ],
   "source": [
    "Example_Tuple[2:5]"
   ]
  },
  {
   "cell_type": "code",
   "execution_count": 86,
   "id": "b567717c",
   "metadata": {},
   "outputs": [
    {
     "data": {
      "text/plain": [
       "(6, 2, 24)"
      ]
     },
     "execution_count": 86,
     "metadata": {},
     "output_type": "execute_result"
    }
   ],
   "source": [
    "Example_Tuple[2:-1]"
   ]
  },
  {
   "cell_type": "markdown",
   "id": "104ffc23",
   "metadata": {},
   "source": [
    "Each element of a tuple can be accessed via an index. The element in the tuple can be accessed by the name of the tuple followed by a square bracket with the index number. Use the square brackets for slicing along with the index or indices to obtain value available at that index.\n",
    "\n",
    "Tuples are immutable, which means we can't change them.\n"
   ]
  },
  {
   "cell_type": "code",
   "execution_count": 87,
   "id": "a7f677ce",
   "metadata": {},
   "outputs": [],
   "source": [
    "Ratings = (10, 9, 6, 5, 10, 8, 9, 6, 2)"
   ]
  },
  {
   "cell_type": "code",
   "execution_count": 88,
   "id": "a91044c4",
   "metadata": {},
   "outputs": [],
   "source": [
    "Ratings1 = Ratings"
   ]
  },
  {
   "cell_type": "code",
   "execution_count": 89,
   "id": "31d52af3",
   "metadata": {},
   "outputs": [
    {
     "name": "stdout",
     "output_type": "stream",
     "text": [
      "(10, 9, 6, 5, 10, 8, 9, 6, 2)\n"
     ]
    }
   ],
   "source": [
    "print(Ratings1)"
   ]
  },
  {
   "cell_type": "markdown",
   "id": "f70d79fd",
   "metadata": {},
   "source": [
    "To see why this is important, let's see what happens when we set the variable Ratings 1 to Ratings. Each variable does not contain a tuple, but references the same immutable tuple object."
   ]
  },
  {
   "cell_type": "markdown",
   "id": "41785e38",
   "metadata": {},
   "source": [
    "--------------------------------\n",
    "Let's say we want to change the element at index 2. Because tuples are immutable, we can't. Therefore, Ratings 1 will not be affected by a change in Rating because the tuple is immutable i.e., we can't change it."
   ]
  },
  {
   "cell_type": "code",
   "execution_count": 91,
   "id": "3ee692b8",
   "metadata": {},
   "outputs": [],
   "source": [
    "Ratings1 = (10, 2, 6, 5, 10, 8, 9, 6, 2)"
   ]
  },
  {
   "cell_type": "code",
   "execution_count": 92,
   "id": "781fd288",
   "metadata": {},
   "outputs": [
    {
     "data": {
      "text/plain": [
       "(10, 9, 6, 5, 10, 8, 9, 6, 2)"
      ]
     },
     "execution_count": 92,
     "metadata": {},
     "output_type": "execute_result"
    }
   ],
   "source": [
    "Ratings"
   ]
  },
  {
   "cell_type": "markdown",
   "id": "05aa03a0",
   "metadata": {},
   "source": [
    "There are many built-in functions that take tuple as a parameter and perform some task. for example, we can find length of the tuple with len() function, minimum value with min() function... etc.\n",
    "\n",
    "if we would like to sort a tuple, we use the function sorted. The input is the original tuple. The output is a new sorted tuple.\n",
    "\n",
    "A tuple can contain other tuples as well as other complex data types; this is called nesting."
   ]
  },
  {
   "cell_type": "markdown",
   "id": "b980c2ff",
   "metadata": {},
   "source": [
    "### NESTED Tuple"
   ]
  },
  {
   "cell_type": "markdown",
   "id": "3e40f4b6",
   "metadata": {},
   "source": [
    "For Example: NestedTuple = (5,2, (\"A\",\"B\"),(1,2),(8896,(\"x\",\"y\",\"z\")))\n",
    "    \n",
    "We can access these elements using the standard indexing methods."
   ]
  },
  {
   "cell_type": "code",
   "execution_count": 93,
   "id": "b32c52e0",
   "metadata": {},
   "outputs": [],
   "source": [
    "NestedTuple = (5,2, (\"A\",\"B\"),(1,2),(8896,(\"x\",\"y\",\"z\")))"
   ]
  },
  {
   "cell_type": "code",
   "execution_count": 94,
   "id": "bb7ecd51",
   "metadata": {},
   "outputs": [
    {
     "data": {
      "text/plain": [
       "5"
      ]
     },
     "execution_count": 94,
     "metadata": {},
     "output_type": "execute_result"
    }
   ],
   "source": [
    "NestedTuple[0]"
   ]
  },
  {
   "cell_type": "code",
   "execution_count": 95,
   "id": "65fa5150",
   "metadata": {},
   "outputs": [
    {
     "data": {
      "text/plain": [
       "('A', 'B')"
      ]
     },
     "execution_count": 95,
     "metadata": {},
     "output_type": "execute_result"
    }
   ],
   "source": [
    "NestedTuple[2]"
   ]
  },
  {
   "cell_type": "code",
   "execution_count": 96,
   "id": "ba1064bb",
   "metadata": {},
   "outputs": [
    {
     "data": {
      "text/plain": [
       "(8896, ('x', 'y', 'z'))"
      ]
     },
     "execution_count": 96,
     "metadata": {},
     "output_type": "execute_result"
    }
   ],
   "source": [
    "NestedTuple[4]"
   ]
  },
  {
   "cell_type": "code",
   "execution_count": 97,
   "id": "1655e744",
   "metadata": {},
   "outputs": [
    {
     "data": {
      "text/plain": [
       "('x', 'y', 'z')"
      ]
     },
     "execution_count": 97,
     "metadata": {},
     "output_type": "execute_result"
    }
   ],
   "source": [
    "NestedTuple[4][1]  \n",
    "#Entire 4th is (8896,(\"x\",\"y\",\"z\")) and inside 1 is (\"x\",\"y\",\"z\""
   ]
  },
  {
   "cell_type": "markdown",
   "id": "46bccae2",
   "metadata": {},
   "source": [
    "The tuple has the following indexes. If we consider indexes with other tuples, we see the tuple at index 2 contains a tuple with two elements. We can access those two indexes. The same convention applies to index 3. We can access the elements in those tuples as well. We can continue the process. We can even access deeper levels of the tree by adding another square bracket like NestedTuple [4][1]."
   ]
  },
  {
   "cell_type": "code",
   "execution_count": null,
   "id": "d0632832",
   "metadata": {},
   "outputs": [],
   "source": []
  },
  {
   "cell_type": "markdown",
   "id": "4b980216",
   "metadata": {},
   "source": [
    "### BODMAS \n",
    "It is an acronym and it stands for Bracket, Order, Division, Multiplication, Addition, and Subtraction.\n",
    "\n",
    "B – Brackets, O – Order of powers or roots, D – Division, M – Multiplication A – Addition, and S – Subtraction."
   ]
  },
  {
   "cell_type": "markdown",
   "id": "dfc75dab",
   "metadata": {},
   "source": [
    "How do you do Bodmas step by step?\n",
    "\n",
    "The BODMAS rule states we should calculate the Brackets first (2 + 4 = 6), then the Orders (52 = 25), then any Division or Multiplication (3 x 6 (the answer to the brackets) = 18), and finally any Addition or Subtraction (18 + 25 = 43)."
   ]
  },
  {
   "cell_type": "markdown",
   "id": "8b7d60a0",
   "metadata": {},
   "source": []
  },
  {
   "cell_type": "code",
   "execution_count": null,
   "id": "ba9a1c48",
   "metadata": {},
   "outputs": [],
   "source": []
  },
  {
   "cell_type": "markdown",
   "id": "6e5bcd91",
   "metadata": {},
   "source": [
    "# LIST"
   ]
  },
  {
   "cell_type": "markdown",
   "id": "9a402db7",
   "metadata": {},
   "source": [
    "A list is a collection which is ordered and changeable. A list is represented with square brackets\n",
    "\n",
    "In many respects’ lists are like tuples, one key difference is they are mutable. Lists can contain strings, floats, integers \n",
    "We can nest other lists.\n"
   ]
  },
  {
   "cell_type": "code",
   "execution_count": 100,
   "id": "0d23186a",
   "metadata": {},
   "outputs": [],
   "source": [
    "List = [21, 3, \"PYTHON\", 67.2, 2.11]"
   ]
  },
  {
   "cell_type": "code",
   "execution_count": 101,
   "id": "797a1fca",
   "metadata": {},
   "outputs": [
    {
     "name": "stdout",
     "output_type": "stream",
     "text": [
      "[21, 3, 'PYTHON', 67.2, 2.11]\n"
     ]
    }
   ],
   "source": [
    "print(List)"
   ]
  },
  {
   "cell_type": "markdown",
   "id": "0a2a94cb",
   "metadata": {},
   "source": [
    "We can also nest tuples and other data structures; the same indexing conventions apply for nesting Like tuples, each element of a list can be accessed via an index."
   ]
  },
  {
   "cell_type": "code",
   "execution_count": 104,
   "id": "07baa8df",
   "metadata": {},
   "outputs": [],
   "source": [
    "List1 = [21, 3, \"PYTHON\", 67.2, 2.11, (121, 32), [\"sublist1\", 8896]]"
   ]
  },
  {
   "cell_type": "code",
   "execution_count": 105,
   "id": "06f9a420",
   "metadata": {},
   "outputs": [
    {
     "name": "stdout",
     "output_type": "stream",
     "text": [
      "[21, 3, 'PYTHON', 67.2, 2.11, (121, 32), ['sublist1', 8896]]\n"
     ]
    }
   ],
   "source": [
    "print(List1)"
   ]
  },
  {
   "cell_type": "code",
   "execution_count": 106,
   "id": "df4e1180",
   "metadata": {},
   "outputs": [
    {
     "data": {
      "text/plain": [
       "(121, 32)"
      ]
     },
     "execution_count": 106,
     "metadata": {},
     "output_type": "execute_result"
    }
   ],
   "source": [
    "List1[5]"
   ]
  },
  {
   "cell_type": "code",
   "execution_count": 107,
   "id": "259f58df",
   "metadata": {},
   "outputs": [
    {
     "data": {
      "text/plain": [
       "'sublist1'"
      ]
     },
     "execution_count": 107,
     "metadata": {},
     "output_type": "execute_result"
    }
   ],
   "source": [
    "List1[6][0]"
   ]
  },
  {
   "cell_type": "markdown",
   "id": "7c3f0d14",
   "metadata": {},
   "source": [
    "The following table represents the relationship between the index and the elements in the list.\n",
    "\n",
    "The following table represents the relationship between the index and the elements in the list. The first element can be accessed by the name of the list followed by a square bracket with the index number, in this case zero. We can access the second element as follows. "
   ]
  },
  {
   "cell_type": "markdown",
   "id": "e5f86ca5",
   "metadata": {},
   "source": [
    "-------------------\n",
    "In Python, we can use a negative index. eg: List[-1], List[-2]....List[-7]\n",
    "\n",
    "The index conventions for lists and tuples are identical for accessing and slicing the elements.\n"
   ]
  },
  {
   "cell_type": "code",
   "execution_count": null,
   "id": "dc4b2211",
   "metadata": {},
   "outputs": [],
   "source": []
  },
  {
   "cell_type": "markdown",
   "id": "eac85e6a",
   "metadata": {},
   "source": [
    "We can concatenate or combine lists by adding them. Lists are mutable; therefore, we can change them. For example, we apply the method Extends by adding a \"dot\" followed by the name of the method, then parenthesis."
   ]
  },
  {
   "cell_type": "code",
   "execution_count": 108,
   "id": "7cbb9d5b",
   "metadata": {},
   "outputs": [
    {
     "name": "stdout",
     "output_type": "stream",
     "text": [
      "[1, 2, 3, 4, 5, 6, 7, 8]\n"
     ]
    }
   ],
   "source": [
    "List1 = [1,2,3,4]\n",
    "List2 = [5,6,7,8]\n",
    "SumList = List1 + List2\n",
    "print(SumList)"
   ]
  },
  {
   "cell_type": "code",
   "execution_count": 111,
   "id": "43c561ac",
   "metadata": {},
   "outputs": [
    {
     "name": "stdout",
     "output_type": "stream",
     "text": [
      "[1, 2, 3, 4, 8, 9, 10, 11]\n"
     ]
    }
   ],
   "source": [
    "# EXTEND function\n",
    "ListE = [1,2,3,4]\n",
    "ListE.extend([8,9,10,11])\n",
    "print(ListE)\n",
    "\n",
    "# The argument inside the parenthesis is a new list \n",
    "# that we are going to concatenate to the original list. "
   ]
  },
  {
   "cell_type": "markdown",
   "id": "6f2f71b5",
   "metadata": {},
   "source": [
    "In this case, instead of creating a new list, the original list List1 is modified by adding four new elements."
   ]
  },
  {
   "cell_type": "markdown",
   "id": "77acd0ff",
   "metadata": {},
   "source": [
    "##### APPEND Function! (another simple method other than EXTEND!)\n",
    "Another similar method is append. If we apply append instead of extended, we add one element to the list. If we look at the index, there is only one more element. Index 4 contains the list we appended.\n",
    "Every time we apply a method, the lists changes.\n"
   ]
  },
  {
   "cell_type": "code",
   "execution_count": 112,
   "id": "9b520981",
   "metadata": {},
   "outputs": [
    {
     "name": "stdout",
     "output_type": "stream",
     "text": [
      "[1, 2, 3, 4, [8, 9, 10, 11]]\n"
     ]
    }
   ],
   "source": [
    "ListA = [1,2,3,4]\n",
    "ListA.append([8,9,10,11])\n",
    "print(ListA)"
   ]
  },
  {
   "cell_type": "code",
   "execution_count": 113,
   "id": "16ef5892",
   "metadata": {},
   "outputs": [
    {
     "name": "stdout",
     "output_type": "stream",
     "text": [
      "[1, 'MUTATED', 3, 4]\n"
     ]
    }
   ],
   "source": [
    "### LISTs are Mutable\n",
    "ListM=[1,2,3,4]\n",
    "ListM[1] = \"MUTATED\"\n",
    "print(ListM)"
   ]
  },
  {
   "cell_type": "markdown",
   "id": "2975fdc8",
   "metadata": {},
   "source": [
    "As lists are mutable, we can change them. For example, we can change the Second element as follows. The list now becomes [ 1,” CHANGED”,3,4]\n",
    "\n",
    "We can delete an element of a list using the \"del\" command; we simply indicate the list item we would like to remove as an argument.\n"
   ]
  },
  {
   "cell_type": "code",
   "execution_count": 114,
   "id": "780d7237",
   "metadata": {},
   "outputs": [
    {
     "data": {
      "text/plain": [
       "[1, 'MUTATED', 3, 4]"
      ]
     },
     "execution_count": 114,
     "metadata": {},
     "output_type": "execute_result"
    }
   ],
   "source": [
    "ListM"
   ]
  },
  {
   "cell_type": "code",
   "execution_count": 115,
   "id": "cc937a0c",
   "metadata": {},
   "outputs": [
    {
     "name": "stdout",
     "output_type": "stream",
     "text": [
      "[1, 3, 4]\n"
     ]
    }
   ],
   "source": [
    "# DEL Command\n",
    "# For example, if we would like to remove the Second element, then perform del List [1] command This operation \n",
    "#..removes the second element of the list then the result becomes [1,3,4]\n",
    "del ListM[1]\n",
    "print(ListM)"
   ]
  },
  {
   "cell_type": "markdown",
   "id": "9b54e711",
   "metadata": {},
   "source": [
    "We can delete an element of a list using the \"del\" command; we simply indicate the list item we would like to remove as an argument."
   ]
  },
  {
   "cell_type": "markdown",
   "id": "5addb38e",
   "metadata": {},
   "source": [
    "For example, if we would like to remove the Second element, then perform del List [1] command This operation removes the second element of the list then the result becomes [1,3,4]"
   ]
  },
  {
   "cell_type": "markdown",
   "id": "2a683253",
   "metadata": {},
   "source": [
    "# --------------------------\n",
    "Que) After applying the following method,L.append(['a','b']), the following list will only be one element longer\n"
   ]
  },
  {
   "cell_type": "code",
   "execution_count": 197,
   "id": "55122f22",
   "metadata": {},
   "outputs": [
    {
     "data": {
      "text/plain": [
       "['C', 'D']"
      ]
     },
     "execution_count": 197,
     "metadata": {},
     "output_type": "execute_result"
    }
   ],
   "source": [
    "L = [\"C\",\"D\"]\n",
    "L"
   ]
  },
  {
   "cell_type": "code",
   "execution_count": 198,
   "id": "94922cae",
   "metadata": {},
   "outputs": [
    {
     "data": {
      "text/plain": [
       "['C', 'D', ['a', 'b']]"
      ]
     },
     "execution_count": 198,
     "metadata": {},
     "output_type": "execute_result"
    }
   ],
   "source": [
    "L.append(['a','b'])\n",
    "L"
   ]
  },
  {
   "cell_type": "code",
   "execution_count": null,
   "id": "9dd4535c",
   "metadata": {},
   "outputs": [],
   "source": []
  },
  {
   "cell_type": "code",
   "execution_count": null,
   "id": "feb9eda1",
   "metadata": {},
   "outputs": [],
   "source": [
    "### LISTs Aliasing"
   ]
  },
  {
   "cell_type": "markdown",
   "id": "5e82722e",
   "metadata": {},
   "source": [
    "When we set one variable, B equal to A, both A and B are referencing the same list. Multiple names referring to the same object is known as aliasing."
   ]
  },
  {
   "cell_type": "markdown",
   "id": "98297386",
   "metadata": {},
   "source": [
    "If we change the first element in “A” to “banana” we get a side effect; the value of B will change as a consequence. “A\" and “B” are referencing the same list, therefore if we change \"A“, list \"B\" also changes. If we check the first element of B after changing list ”A” we get banana instead of hard rock"
   ]
  },
  {
   "cell_type": "code",
   "execution_count": 123,
   "id": "92c01ac2",
   "metadata": {},
   "outputs": [
    {
     "name": "stdout",
     "output_type": "stream",
     "text": [
      "A is:  ['hard rock', 10, 1.2]\n",
      "B is:  ['hard rock', 10, 1.2]\n"
     ]
    }
   ],
   "source": [
    "A = [\"hard rock\", 10, 1.2]\n",
    "B = A\n",
    "print(\"A is: \", A)\n",
    "print(\"B is: \", B)"
   ]
  },
  {
   "cell_type": "code",
   "execution_count": 126,
   "id": "3abcc0c4",
   "metadata": {},
   "outputs": [
    {
     "name": "stdout",
     "output_type": "stream",
     "text": [
      "['orange', 10, 1.2]\n"
     ]
    }
   ],
   "source": [
    "A[0] = 'orange'\n",
    "print(A)"
   ]
  },
  {
   "cell_type": "code",
   "execution_count": 127,
   "id": "b6985e71",
   "metadata": {},
   "outputs": [
    {
     "data": {
      "text/plain": [
       "['orange', 10, 1.2]"
      ]
     },
     "execution_count": 127,
     "metadata": {},
     "output_type": "execute_result"
    }
   ],
   "source": [
    "B  #B also changed!"
   ]
  },
  {
   "cell_type": "code",
   "execution_count": 128,
   "id": "3b97f9b6",
   "metadata": {},
   "outputs": [
    {
     "name": "stdout",
     "output_type": "stream",
     "text": [
      "['hard rock', 10, 1.2]\n"
     ]
    }
   ],
   "source": [
    "B[0] = \"hard rock\"\n",
    "print(B)"
   ]
  },
  {
   "cell_type": "code",
   "execution_count": 129,
   "id": "303b2bff",
   "metadata": {},
   "outputs": [
    {
     "data": {
      "text/plain": [
       "['hard rock', 10, 1.2]"
      ]
     },
     "execution_count": 129,
     "metadata": {},
     "output_type": "execute_result"
    }
   ],
   "source": [
    "A  #A also changed!"
   ]
  },
  {
   "cell_type": "markdown",
   "id": "fd43b7c5",
   "metadata": {},
   "source": [
    "You can clone list “A” by using the following syntax. Variable \"A\" references one list. Variable “B” references a new copy or clone of the original list.\n",
    "\n"
   ]
  },
  {
   "cell_type": "code",
   "execution_count": null,
   "id": "8e64156c",
   "metadata": {},
   "outputs": [],
   "source": []
  },
  {
   "cell_type": "code",
   "execution_count": 131,
   "id": "0ed89afd",
   "metadata": {},
   "outputs": [
    {
     "name": "stdout",
     "output_type": "stream",
     "text": [
      "A is:  [1, 2, 3]\n",
      "B is:  [1, 2, 3]\n"
     ]
    }
   ],
   "source": [
    "A = [1,2,3]\n",
    "B = A[:]\n",
    "print(\"A is: \", A)\n",
    "print(\"B is: \", B)"
   ]
  },
  {
   "cell_type": "markdown",
   "id": "cd6991d8",
   "metadata": {},
   "source": [
    "Now if you change “A”, \"B\" will not change We can get more info on lists, tuples and many other objects in Python using the help command.\n",
    "\n"
   ]
  },
  {
   "cell_type": "code",
   "execution_count": 132,
   "id": "6f36d49c",
   "metadata": {},
   "outputs": [
    {
     "name": "stdout",
     "output_type": "stream",
     "text": [
      "Help on class list in module builtins:\n",
      "\n",
      "class list(object)\n",
      " |  list(iterable=(), /)\n",
      " |  \n",
      " |  Built-in mutable sequence.\n",
      " |  \n",
      " |  If no argument is given, the constructor creates a new empty list.\n",
      " |  The argument must be an iterable if specified.\n",
      " |  \n",
      " |  Methods defined here:\n",
      " |  \n",
      " |  __add__(self, value, /)\n",
      " |      Return self+value.\n",
      " |  \n",
      " |  __contains__(self, key, /)\n",
      " |      Return key in self.\n",
      " |  \n",
      " |  __delitem__(self, key, /)\n",
      " |      Delete self[key].\n",
      " |  \n",
      " |  __eq__(self, value, /)\n",
      " |      Return self==value.\n",
      " |  \n",
      " |  __ge__(self, value, /)\n",
      " |      Return self>=value.\n",
      " |  \n",
      " |  __getattribute__(self, name, /)\n",
      " |      Return getattr(self, name).\n",
      " |  \n",
      " |  __getitem__(...)\n",
      " |      x.__getitem__(y) <==> x[y]\n",
      " |  \n",
      " |  __gt__(self, value, /)\n",
      " |      Return self>value.\n",
      " |  \n",
      " |  __iadd__(self, value, /)\n",
      " |      Implement self+=value.\n",
      " |  \n",
      " |  __imul__(self, value, /)\n",
      " |      Implement self*=value.\n",
      " |  \n",
      " |  __init__(self, /, *args, **kwargs)\n",
      " |      Initialize self.  See help(type(self)) for accurate signature.\n",
      " |  \n",
      " |  __iter__(self, /)\n",
      " |      Implement iter(self).\n",
      " |  \n",
      " |  __le__(self, value, /)\n",
      " |      Return self<=value.\n",
      " |  \n",
      " |  __len__(self, /)\n",
      " |      Return len(self).\n",
      " |  \n",
      " |  __lt__(self, value, /)\n",
      " |      Return self<value.\n",
      " |  \n",
      " |  __mul__(self, value, /)\n",
      " |      Return self*value.\n",
      " |  \n",
      " |  __ne__(self, value, /)\n",
      " |      Return self!=value.\n",
      " |  \n",
      " |  __repr__(self, /)\n",
      " |      Return repr(self).\n",
      " |  \n",
      " |  __reversed__(self, /)\n",
      " |      Return a reverse iterator over the list.\n",
      " |  \n",
      " |  __rmul__(self, value, /)\n",
      " |      Return value*self.\n",
      " |  \n",
      " |  __setitem__(self, key, value, /)\n",
      " |      Set self[key] to value.\n",
      " |  \n",
      " |  __sizeof__(self, /)\n",
      " |      Return the size of the list in memory, in bytes.\n",
      " |  \n",
      " |  append(self, object, /)\n",
      " |      Append object to the end of the list.\n",
      " |  \n",
      " |  clear(self, /)\n",
      " |      Remove all items from list.\n",
      " |  \n",
      " |  copy(self, /)\n",
      " |      Return a shallow copy of the list.\n",
      " |  \n",
      " |  count(self, value, /)\n",
      " |      Return number of occurrences of value.\n",
      " |  \n",
      " |  extend(self, iterable, /)\n",
      " |      Extend list by appending elements from the iterable.\n",
      " |  \n",
      " |  index(self, value, start=0, stop=9223372036854775807, /)\n",
      " |      Return first index of value.\n",
      " |      \n",
      " |      Raises ValueError if the value is not present.\n",
      " |  \n",
      " |  insert(self, index, object, /)\n",
      " |      Insert object before index.\n",
      " |  \n",
      " |  pop(self, index=-1, /)\n",
      " |      Remove and return item at index (default last).\n",
      " |      \n",
      " |      Raises IndexError if list is empty or index is out of range.\n",
      " |  \n",
      " |  remove(self, value, /)\n",
      " |      Remove first occurrence of value.\n",
      " |      \n",
      " |      Raises ValueError if the value is not present.\n",
      " |  \n",
      " |  reverse(self, /)\n",
      " |      Reverse *IN PLACE*.\n",
      " |  \n",
      " |  sort(self, /, *, key=None, reverse=False)\n",
      " |      Sort the list in ascending order and return None.\n",
      " |      \n",
      " |      The sort is in-place (i.e. the list itself is modified) and stable (i.e. the\n",
      " |      order of two equal elements is maintained).\n",
      " |      \n",
      " |      If a key function is given, apply it once to each list item and sort them,\n",
      " |      ascending or descending, according to their function values.\n",
      " |      \n",
      " |      The reverse flag can be set to sort in descending order.\n",
      " |  \n",
      " |  ----------------------------------------------------------------------\n",
      " |  Static methods defined here:\n",
      " |  \n",
      " |  __new__(*args, **kwargs) from builtins.type\n",
      " |      Create and return a new object.  See help(type) for accurate signature.\n",
      " |  \n",
      " |  ----------------------------------------------------------------------\n",
      " |  Data and other attributes defined here:\n",
      " |  \n",
      " |  __hash__ = None\n",
      "\n"
     ]
    }
   ],
   "source": [
    "help(list)"
   ]
  },
  {
   "cell_type": "code",
   "execution_count": 137,
   "id": "79583b93",
   "metadata": {},
   "outputs": [
    {
     "name": "stdout",
     "output_type": "stream",
     "text": [
      "('banana', 'cherry')\n"
     ]
    }
   ],
   "source": [
    "# Example\n",
    "# Convert the tuple into a list, remove \"apple\", and convert it back into a tuple:\n",
    "thistuple = (\"apple\", \"banana\", \"cherry\")\n",
    "y = list(thistuple)\n",
    "y.remove(\"apple\")\n",
    "thistuple = tuple(y)\n",
    "print(thistuple)"
   ]
  },
  {
   "cell_type": "code",
   "execution_count": null,
   "id": "1a07de6a",
   "metadata": {},
   "outputs": [],
   "source": []
  },
  {
   "cell_type": "code",
   "execution_count": null,
   "id": "4c6e624c",
   "metadata": {},
   "outputs": [],
   "source": []
  },
  {
   "cell_type": "markdown",
   "id": "f847348e",
   "metadata": {},
   "source": [
    "## Set:"
   ]
  },
  {
   "cell_type": "markdown",
   "id": "56534c5e",
   "metadata": {},
   "source": [
    "Sets are a type of collection. Unlike lists and tuples, they are unordered. You cannot access items in a set by referring to an index, since sets are unordered the items has no index. To define a set, you use curly brackets You place the elements of a set within the curly brackets.\n",
    "\n",
    "You notice there are duplicate items. When the actual set is created, duplicate items will not be present.\n",
    "\n",
    "To add one item to a set, use the add () method.\n",
    "\n",
    "To add more than one item to a set use the update () method with list of values.\n",
    "\n",
    "To remove an item from the set we can use the pop () method. Remember sets are unordered so it will remove the first item in the set.\n",
    "\n",
    "To remove an item from the set, use the remove method, we simply indicate the set item we would like to remove as an argument."
   ]
  },
  {
   "cell_type": "code",
   "execution_count": 145,
   "id": "23737ff0",
   "metadata": {},
   "outputs": [
    {
     "name": "stdout",
     "output_type": "stream",
     "text": [
      "{1, 2, 3}\n"
     ]
    }
   ],
   "source": [
    "# No Duplicates can be Extracted from set\n",
    "set = {1, 2, 3, 1, 2, 3, 1, 2, 3}\n",
    "print(set)"
   ]
  },
  {
   "cell_type": "code",
   "execution_count": 146,
   "id": "d4348c8a",
   "metadata": {},
   "outputs": [
    {
     "name": "stdout",
     "output_type": "stream",
     "text": [
      "{1, 2, 3, 4}\n"
     ]
    }
   ],
   "source": [
    "# Add function \n",
    "set.add(4)\n",
    "print(set)"
   ]
  },
  {
   "cell_type": "code",
   "execution_count": 147,
   "id": "e5ed2a7a",
   "metadata": {},
   "outputs": [
    {
     "name": "stdout",
     "output_type": "stream",
     "text": [
      "{1, 2, 3, 4, 5, 6, 7}\n"
     ]
    }
   ],
   "source": [
    "# Update function\n",
    "set.update([4,5,6,7])\n",
    "print(set)"
   ]
  },
  {
   "cell_type": "code",
   "execution_count": 148,
   "id": "25cfc13e",
   "metadata": {},
   "outputs": [
    {
     "data": {
      "text/plain": [
       "1"
      ]
     },
     "execution_count": 148,
     "metadata": {},
     "output_type": "execute_result"
    }
   ],
   "source": [
    "# POP function\n",
    "set.pop()  #one by one it will try to remove(The no. of times you execute pop it will remove the elements inside it in sequence)"
   ]
  },
  {
   "cell_type": "code",
   "execution_count": 149,
   "id": "b83346c2",
   "metadata": {},
   "outputs": [
    {
     "name": "stdout",
     "output_type": "stream",
     "text": [
      "{2, 3, 4, 5, 6, 7}\n"
     ]
    }
   ],
   "source": [
    "print(set)"
   ]
  },
  {
   "cell_type": "code",
   "execution_count": 150,
   "id": "032b0ef2",
   "metadata": {},
   "outputs": [
    {
     "name": "stdout",
     "output_type": "stream",
     "text": [
      "{2, 3, 4, 6, 7}\n"
     ]
    }
   ],
   "source": [
    "# Remove function\n",
    "set.remove(5)\n",
    "print(set)"
   ]
  },
  {
   "cell_type": "markdown",
   "id": "1cef21fd",
   "metadata": {},
   "source": [
    "There are lots of useful mathematical operations we can do between sets. like union, intersection, difference, symmetric difference from two sets."
   ]
  },
  {
   "cell_type": "code",
   "execution_count": null,
   "id": "5bc21127",
   "metadata": {},
   "outputs": [],
   "source": []
  },
  {
   "cell_type": "code",
   "execution_count": null,
   "id": "85ac8251",
   "metadata": {},
   "outputs": [],
   "source": []
  },
  {
   "cell_type": "markdown",
   "id": "aeaabc0a",
   "metadata": {},
   "source": [
    "## Dictionaries"
   ]
  },
  {
   "cell_type": "markdown",
   "id": "8b585de1",
   "metadata": {},
   "source": [
    "Python dictionary is an unordered collection of items. While other compound data types have only value as an element, a dictionary has a key: value pair. "
   ]
  },
  {
   "cell_type": "markdown",
   "id": "06f67549",
   "metadata": {},
   "source": [
    "---------------------\n",
    "Dictionaries are optimized to retrieve values when the key is known. Creating a dictionary is as simple as placing items inside curly braces {} separated by comma\n",
    "\n",
    "An item has a key and the corresponding value expressed as a pair, key: value. \n",
    "    \n",
    "While values can be of any data type and can repeat, keys must be of immutable type (string, number or tuple with immutable elements) and must be unique."
   ]
  },
  {
   "cell_type": "code",
   "execution_count": 151,
   "id": "02277d07",
   "metadata": {},
   "outputs": [],
   "source": [
    "my_dict = {\"Name\":'Sid',\"Age\":24}"
   ]
  },
  {
   "cell_type": "code",
   "execution_count": 152,
   "id": "82c3a2db",
   "metadata": {},
   "outputs": [
    {
     "data": {
      "text/plain": [
       "{'Name': 'Sid', 'Age': 24}"
      ]
     },
     "execution_count": 152,
     "metadata": {},
     "output_type": "execute_result"
    }
   ],
   "source": [
    "my_dict"
   ]
  },
  {
   "cell_type": "code",
   "execution_count": 154,
   "id": "5c7c9a8a",
   "metadata": {},
   "outputs": [
    {
     "name": "stdout",
     "output_type": "stream",
     "text": [
      "Sid\n"
     ]
    }
   ],
   "source": [
    "print(my_dict['Name'])"
   ]
  },
  {
   "cell_type": "markdown",
   "id": "5c089b37",
   "metadata": {},
   "source": [
    "We can access the elements from the dictionary using keys."
   ]
  },
  {
   "cell_type": "code",
   "execution_count": 155,
   "id": "bb51c640",
   "metadata": {},
   "outputs": [],
   "source": [
    "my_dict = {\"Name\":'Sid',\"Age\":24}"
   ]
  },
  {
   "cell_type": "code",
   "execution_count": 157,
   "id": "6adf7f9b",
   "metadata": {},
   "outputs": [
    {
     "name": "stdout",
     "output_type": "stream",
     "text": [
      "24\n"
     ]
    }
   ],
   "source": [
    "print(my_dict.get('Age'))  #NOTE: the kwy names are case-sensitive"
   ]
  },
  {
   "cell_type": "markdown",
   "id": "146165d1",
   "metadata": {},
   "source": [
    "We can get the value using keys either inside square brackets or with get( ) method."
   ]
  },
  {
   "cell_type": "markdown",
   "id": "be76607a",
   "metadata": {},
   "source": [
    "-----------------------\n",
    "Dictionary is mutable. We can add new items or change the value of existing items using assignment operator. If the key is already present, value gets updated, else a new key: value pair is added to the dictionary."
   ]
  },
  {
   "cell_type": "code",
   "execution_count": 159,
   "id": "338be2ce",
   "metadata": {},
   "outputs": [
    {
     "name": "stdout",
     "output_type": "stream",
     "text": [
      "{'Name': 'Sid', 'Age': 24}\n"
     ]
    }
   ],
   "source": [
    "my_dict = {\"Name\":'Sid',\"Age\":24}\n",
    "print(my_dict)"
   ]
  },
  {
   "cell_type": "code",
   "execution_count": 161,
   "id": "b323fe60",
   "metadata": {},
   "outputs": [
    {
     "data": {
      "text/plain": [
       "{'Name': 'Das', 'Age': 24}"
      ]
     },
     "execution_count": 161,
     "metadata": {},
     "output_type": "execute_result"
    }
   ],
   "source": [
    "#Update Value when using existing key!\n",
    "my_dict['Name'] = 'Das'\n",
    "my_dict"
   ]
  },
  {
   "cell_type": "code",
   "execution_count": 162,
   "id": "aadc976d",
   "metadata": {},
   "outputs": [
    {
     "data": {
      "text/plain": [
       "{'Name': 'Das', 'Age': 24, 'address': 'High Hill Town'}"
      ]
     },
     "execution_count": 162,
     "metadata": {},
     "output_type": "execute_result"
    }
   ],
   "source": [
    "# Adds new key:value when new key is used\n",
    "my_dict['address'] = 'High Hill Town'\n",
    "my_dict"
   ]
  },
  {
   "cell_type": "markdown",
   "id": "4d3594a3",
   "metadata": {},
   "source": [
    "-------------\n",
    "We can delete an entry as follows. This gets rid of the key \"address\" and its value from my_dict dictionary"
   ]
  },
  {
   "cell_type": "code",
   "execution_count": 163,
   "id": "72550e37",
   "metadata": {},
   "outputs": [
    {
     "data": {
      "text/plain": [
       "{'Name': 'Sid', 'Age': 24, 'address': 'High Hill Town'}"
      ]
     },
     "execution_count": 163,
     "metadata": {},
     "output_type": "execute_result"
    }
   ],
   "source": [
    "my_dict = {\"Name\":'Sid', \"Age\":24, 'address': 'High Hill Town'}\n",
    "my_dict"
   ]
  },
  {
   "cell_type": "code",
   "execution_count": 164,
   "id": "a89f2b35",
   "metadata": {},
   "outputs": [
    {
     "name": "stdout",
     "output_type": "stream",
     "text": [
      "{'Name': 'Sid', 'Age': 24}\n"
     ]
    }
   ],
   "source": [
    "# del \n",
    "del(my_dict['address'])\n",
    "print(my_dict)"
   ]
  },
  {
   "cell_type": "markdown",
   "id": "38a26824",
   "metadata": {},
   "source": [
    "----------------------\n",
    "We can verify if an element is in the dictionary using the IN command as follows.\n",
    "Syntax: ‘KEY_NAME’ in DictionaryName\n",
    "The command checks the keys. If they are in the dictionary, they return a true. If we try the same command with a key that is not in the dictionary, we get a false. If we try with another key that is not in the dictionary, we get a false.\n"
   ]
  },
  {
   "cell_type": "code",
   "execution_count": 165,
   "id": "dfc1460f",
   "metadata": {},
   "outputs": [
    {
     "data": {
      "text/plain": [
       "{'Name': 'Sid', 'Age': 24, 'address': 'High Hill Town'}"
      ]
     },
     "execution_count": 165,
     "metadata": {},
     "output_type": "execute_result"
    }
   ],
   "source": [
    "my_dict = {\"Name\":'Sid', \"Age\":24, 'address': 'High Hill Town'}\n",
    "my_dict"
   ]
  },
  {
   "cell_type": "code",
   "execution_count": 167,
   "id": "91ee5763",
   "metadata": {},
   "outputs": [
    {
     "data": {
      "text/plain": [
       "True"
      ]
     },
     "execution_count": 167,
     "metadata": {},
     "output_type": "execute_result"
    }
   ],
   "source": [
    "'Age' in my_dict"
   ]
  },
  {
   "cell_type": "code",
   "execution_count": 168,
   "id": "3bef4b1b",
   "metadata": {},
   "outputs": [
    {
     "data": {
      "text/plain": [
       "False"
      ]
     },
     "execution_count": 168,
     "metadata": {},
     "output_type": "execute_result"
    }
   ],
   "source": [
    "'DOB' in my_dict"
   ]
  },
  {
   "cell_type": "markdown",
   "id": "6c967a47",
   "metadata": {},
   "source": [
    "------------------------\n",
    "In order to see all the keys in a dictionary, we can use the method keys to get the keys. The output is a list like object with all keys. In the same way, we can obtain the values."
   ]
  },
  {
   "cell_type": "code",
   "execution_count": 172,
   "id": "67c9fe6d",
   "metadata": {},
   "outputs": [
    {
     "data": {
      "text/plain": [
       "{'Name': 'Sid', 'Age': 24, 'address': 'High Hill Town'}"
      ]
     },
     "execution_count": 172,
     "metadata": {},
     "output_type": "execute_result"
    }
   ],
   "source": [
    "my_dict"
   ]
  },
  {
   "cell_type": "code",
   "execution_count": 173,
   "id": "878cc2d6",
   "metadata": {},
   "outputs": [
    {
     "data": {
      "text/plain": [
       "dict_keys(['Name', 'Age', 'address'])"
      ]
     },
     "execution_count": 173,
     "metadata": {},
     "output_type": "execute_result"
    }
   ],
   "source": [
    "my_dict.keys()"
   ]
  },
  {
   "cell_type": "code",
   "execution_count": 174,
   "id": "c58bede9",
   "metadata": {},
   "outputs": [
    {
     "data": {
      "text/plain": [
       "dict_values(['Sid', 24, 'High Hill Town'])"
      ]
     },
     "execution_count": 174,
     "metadata": {},
     "output_type": "execute_result"
    }
   ],
   "source": [
    "my_dict.values()"
   ]
  },
  {
   "cell_type": "markdown",
   "id": "4ec85f12",
   "metadata": {},
   "source": [
    "Que) Consider the following Python Dictionary:Dict={\"A\":1,\"B\":\"2\",\"C\":[3,3,3],\"D\":(4,4,4),'E':5,'F':6} what is the result of the following operation: Dict[\"D\"]\n"
   ]
  },
  {
   "cell_type": "code",
   "execution_count": 194,
   "id": "f876672a",
   "metadata": {},
   "outputs": [],
   "source": [
    "Dict={\"A\":1,\"B\":\"2\",\"C\":[3,3,3],\"D\":(4,4,4),'E':5,'F':6}"
   ]
  },
  {
   "cell_type": "code",
   "execution_count": 195,
   "id": "ec997927",
   "metadata": {},
   "outputs": [
    {
     "data": {
      "text/plain": [
       "(4, 4, 4)"
      ]
     },
     "execution_count": 195,
     "metadata": {},
     "output_type": "execute_result"
    }
   ],
   "source": [
    "Dict[\"D\"]"
   ]
  },
  {
   "cell_type": "code",
   "execution_count": null,
   "id": "405f27db",
   "metadata": {},
   "outputs": [],
   "source": []
  },
  {
   "cell_type": "markdown",
   "id": "d509cd91",
   "metadata": {},
   "source": [
    "## Conditional Statements"
   ]
  },
  {
   "cell_type": "markdown",
   "id": "e27b7f9c",
   "metadata": {},
   "source": [
    "In programming languages, most of the time we have to control the flow of execution of your program, you want to execute some set of statements only if the given condition is satisfied, and a different set of statements when it’s not satisfied. \n",
    "Which we also call it as control statements or decision-making statements.\n",
    "\n",
    "Conditional statements are also known as decision-making statements. We use these statements when we want to execute a block of code when the given condition is true or false.\n"
   ]
  },
  {
   "cell_type": "markdown",
   "id": "98cb7f59",
   "metadata": {},
   "source": [
    "Usually Condition will be in a form of Expression with some relational operators. Refer some below operators mentioned in the chart\n",
    "\n",
    "Equal to   (==)\n",
    "\n",
    "Greater than  (>)\n",
    "\n",
    "Less than     (<)\n",
    "\n",
    ",>=\n",
    "\n",
    "<=\n",
    "\n",
    "!=\n",
    "\n",
    "Negation  (not)"
   ]
  },
  {
   "cell_type": "markdown",
   "id": "f7564f11",
   "metadata": {},
   "source": [
    "# ----------------------"
   ]
  },
  {
   "cell_type": "markdown",
   "id": "c91acf6d",
   "metadata": {},
   "source": [
    "In Python we achieve the decision-making statements by using below statements -\n",
    "\n",
    "•\tIf statements\n",
    "\n",
    "•\tIf-else statements\n",
    "\n",
    "•\tElif statements\n",
    "\n",
    "•\tNested if and if-else statements\n"
   ]
  },
  {
   "cell_type": "markdown",
   "id": "1408b3a0",
   "metadata": {},
   "source": [
    "### 1) If statements -\n",
    "\n",
    "If statement is one of the most commonly used conditional statement in most of the programming languages. It decides whether certain statements need to be executed or not. "
   ]
  },
  {
   "cell_type": "markdown",
   "id": "34f796eb",
   "metadata": {},
   "source": [
    "If statement checks for a given condition, if the condition is true, then the set of code present inside the if block will be executed."
   ]
  },
  {
   "cell_type": "markdown",
   "id": "fe1007a5",
   "metadata": {},
   "source": [
    "The If condition evaluates a Boolean expression and executes the block of code only when the Boolean expression becomes TRUE. Check the Syntax first the controller will come to an if condition and evaluate the condition if it is true, then the statements will be executed, otherwise the code present outside the block will be executed."
   ]
  },
  {
   "cell_type": "code",
   "execution_count": 176,
   "id": "ca7ce7a8",
   "metadata": {},
   "outputs": [],
   "source": [
    "## Syntax for IF Statements:\n",
    "if(condition):\n",
    "    #Block of the Code to be executed IF condition is TRUE\n",
    "remaining Code"
   ]
  },
  {
   "cell_type": "markdown",
   "id": "64202740",
   "metadata": {},
   "source": [
    "### -------------------------"
   ]
  },
  {
   "cell_type": "markdown",
   "id": "ccbf6222",
   "metadata": {},
   "source": [
    "Let’s take an example to implement the if statement, in this example we have a variable name which stores the string “Sid” and we also have names list with some names"
   ]
  },
  {
   "cell_type": "code",
   "execution_count": 180,
   "id": "3431e696",
   "metadata": {},
   "outputs": [
    {
     "name": "stdout",
     "output_type": "stream",
     "text": [
      "Your Name is Present!\n",
      "This Statement is always be executed!\n"
     ]
    }
   ],
   "source": [
    "name = 'Sid'\n",
    "names = ['Sid', 'Nani', 'Rio'] #Strings inside the list are caseSensitive for further Use!\n",
    "if(name in names):\n",
    "    print('Your Name is Present!')\n",
    "print('This Statement is always be executed!')"
   ]
  },
  {
   "cell_type": "markdown",
   "id": "383df67f",
   "metadata": {},
   "source": [
    "We can use if statement to check whether the name is present in the names list or not, if condition is true then it will also print block of statements inside the ‘if’ block. If condition is false, then it will skip the execution of the ‘if’ block statements."
   ]
  },
  {
   "cell_type": "code",
   "execution_count": null,
   "id": "ffc2a12c",
   "metadata": {},
   "outputs": [],
   "source": []
  },
  {
   "cell_type": "markdown",
   "id": "b29cd98f",
   "metadata": {},
   "source": [
    "### 2) IF-ELSE statements:"
   ]
  },
  {
   "cell_type": "markdown",
   "id": "5b85ab01",
   "metadata": {},
   "source": [
    "The statement itself tells that if a given condition is true then execute the statements present inside if block and if the condition is false then execute the else block."
   ]
  },
  {
   "cell_type": "markdown",
   "id": "9eb5e645",
   "metadata": {},
   "source": [
    "Else block will execute only when the condition becomes false, this is the block where you will perform some actions when the condition is not true."
   ]
  },
  {
   "cell_type": "markdown",
   "id": "7b8d3953",
   "metadata": {},
   "source": [
    "If-else statement evaluates the Boolean expression and executes the block of code present inside the if block if the condition becomes TRUE and executes a block of code present in the else block if the condition becomes FALSE."
   ]
  },
  {
   "cell_type": "code",
   "execution_count": null,
   "id": "8ae63914",
   "metadata": {},
   "outputs": [],
   "source": [
    "# SYNTAX for IF-ELSE statement!\n",
    "if (Condition):\n",
    "    #Block of the Code to be executed IF condition is TRUE\n",
    "else:\n",
    "    #Block of the Code to be executed IF condition is FALSE'\n",
    "remaining Code"
   ]
  },
  {
   "cell_type": "markdown",
   "id": "4b2ea683",
   "metadata": {},
   "source": [
    "## ---------------------"
   ]
  },
  {
   "cell_type": "markdown",
   "id": "ab41f807",
   "metadata": {},
   "source": [
    "Let’s take an example to implement the if-else statement, in this example the if block will get executed if the given condition is true or else it will execute the else block."
   ]
  },
  {
   "cell_type": "code",
   "execution_count": 181,
   "id": "3e6686cc",
   "metadata": {},
   "outputs": [
    {
     "name": "stdout",
     "output_type": "stream",
     "text": [
      "The number is Lesser than 4\n"
     ]
    }
   ],
   "source": [
    "x = 4\n",
    "if (x > 5):\n",
    "    print(\"The number is Greater than 4\")\n",
    "else:\n",
    "    print(\"The number is Lesser than 4\")"
   ]
  },
  {
   "cell_type": "code",
   "execution_count": null,
   "id": "c713b303",
   "metadata": {},
   "outputs": [],
   "source": []
  },
  {
   "cell_type": "code",
   "execution_count": null,
   "id": "39cb108c",
   "metadata": {},
   "outputs": [],
   "source": []
  },
  {
   "cell_type": "markdown",
   "id": "506ce6a5",
   "metadata": {},
   "source": [
    "### 3) ELIF statements:"
   ]
  },
  {
   "cell_type": "markdown",
   "id": "c2a1a7ec",
   "metadata": {},
   "source": [
    "In python, we have one more conditional statement called elif statements. Elif statement is used to check multiple conditions only if the given if condition false. It's like an if-else statement \n",
    "\n",
    "and the only difference is that in else we will not check the condition but in elif we will do check the condition."
   ]
  },
  {
   "cell_type": "code",
   "execution_count": null,
   "id": "37a80fed",
   "metadata": {},
   "outputs": [],
   "source": [
    "if (Condition):\n",
    "    #Set of statement to execute when IF condition is TRUE\n",
    "elif:\n",
    "    #Set of statement to be executed when IF condition is FALSE and ELIF condition is TRUE\n",
    "else:\n",
    "    #Set of statement to be executed when both IF and ELIF conditions are FALSE!\n"
   ]
  },
  {
   "cell_type": "markdown",
   "id": "a4d6e43c",
   "metadata": {},
   "source": [
    "# -------------------------\n",
    "Elif statements are similar to if-else statements but elif statements evaluate multiple conditions."
   ]
  },
  {
   "cell_type": "code",
   "execution_count": 183,
   "id": "b8325a70",
   "metadata": {},
   "outputs": [
    {
     "name": "stdout",
     "output_type": "stream",
     "text": [
      "Number less than 5\n"
     ]
    }
   ],
   "source": [
    "x = 5\n",
    "if (x == 0):\n",
    "    print(\"Number is 0\")\n",
    "elif (x > 5):\n",
    "    print(\"Number is Greater than 5\")\n",
    "else:\n",
    "    print(\"Number less than 5\")"
   ]
  },
  {
   "cell_type": "markdown",
   "id": "b5ae75e5",
   "metadata": {},
   "source": [
    "Let’s take an example to implement the elif statement, in this example the if block will get executed if the given if-condition is true, or elif block will get executed if the elif-condition is true, or it will execute the else block if both if and elif conditions are false."
   ]
  },
  {
   "cell_type": "code",
   "execution_count": null,
   "id": "a5638a3e",
   "metadata": {},
   "outputs": [],
   "source": []
  },
  {
   "cell_type": "code",
   "execution_count": null,
   "id": "9bca8317",
   "metadata": {},
   "outputs": [],
   "source": []
  },
  {
   "cell_type": "markdown",
   "id": "97eea6af",
   "metadata": {},
   "source": [
    "### 4) NESTED IF-ELSE Statements:"
   ]
  },
  {
   "cell_type": "markdown",
   "id": "08143b6d",
   "metadata": {},
   "source": [
    "Nested if-else statements mean that an if statement or if-else statement is present inside another if or if-else block. \n",
    "\n",
    "Python provides this feature as well, this in turn will help us to check multiple conditions in a given program.\n",
    "\n",
    "An if statement present inside another if statement which is present inside another if statements and so on.\n"
   ]
  },
  {
   "cell_type": "code",
   "execution_count": null,
   "id": "93dc62df",
   "metadata": {},
   "outputs": [],
   "source": [
    "## Syntax for NESTED-IF-ELSE\n",
    "if(Condition):\n",
    "    #Statements to execute if condition is TRUE\n",
    "    if(Condition):\n",
    "        #Statements to execute if condition is TRUE        \n",
    "    else:\n",
    "        #Statements to execute if condition is FALSE\n",
    "else:\n",
    "    #Statements to execute if condition is FALSE    "
   ]
  },
  {
   "cell_type": "code",
   "execution_count": 188,
   "id": "1e9419fd",
   "metadata": {},
   "outputs": [
    {
     "name": "stdout",
     "output_type": "stream",
     "text": [
      "Number Not Equal to 0\n",
      "Number is Positive\n"
     ]
    }
   ],
   "source": [
    "# Example for Nested IF-Else\n",
    "num = 5\n",
    "\n",
    "if(num != 0):\n",
    "    print(\"Number Not Equal to 0\")\n",
    "    \n",
    "    if(num>0):\n",
    "        print(\"Number is Positive\")\n",
    "    else:\n",
    "        print(\"Number is Negative\")\n",
    "else:\n",
    "    print(\"Number Equal to 0\")"
   ]
  },
  {
   "cell_type": "code",
   "execution_count": null,
   "id": "b9db81d6",
   "metadata": {},
   "outputs": [],
   "source": []
  },
  {
   "cell_type": "markdown",
   "id": "2703af66",
   "metadata": {},
   "source": [
    "## [Start: Till: Step]"
   ]
  },
  {
   "cell_type": "code",
   "execution_count": 190,
   "id": "0892ba58",
   "metadata": {},
   "outputs": [],
   "source": [
    "var = '01234567'"
   ]
  },
  {
   "cell_type": "code",
   "execution_count": 191,
   "id": "50000c64",
   "metadata": {},
   "outputs": [
    {
     "name": "stdout",
     "output_type": "stream",
     "text": [
      "0246\n"
     ]
    }
   ],
   "source": [
    "print(var[::2])\n",
    "\n"
   ]
  },
  {
   "cell_type": "code",
   "execution_count": 192,
   "id": "f432125e",
   "metadata": {},
   "outputs": [
    {
     "data": {
      "text/plain": [
       "'12'"
      ]
     },
     "execution_count": 192,
     "metadata": {},
     "output_type": "execute_result"
    }
   ],
   "source": [
    "\"1\"+\"2\""
   ]
  },
  {
   "cell_type": "code",
   "execution_count": 199,
   "id": "50a9959d",
   "metadata": {},
   "outputs": [
    {
     "name": "stdout",
     "output_type": "stream",
     "text": [
      "024\n"
     ]
    }
   ],
   "source": [
    "print(var[:6:2]) #it will not include 6"
   ]
  },
  {
   "cell_type": "code",
   "execution_count": 200,
   "id": "5bce616c",
   "metadata": {},
   "outputs": [
    {
     "name": "stdout",
     "output_type": "stream",
     "text": [
      "0246\n"
     ]
    }
   ],
   "source": [
    "print(var[:7:2]) #it will now include 6"
   ]
  },
  {
   "cell_type": "code",
   "execution_count": null,
   "id": "bdb07706",
   "metadata": {},
   "outputs": [],
   "source": []
  }
 ],
 "metadata": {
  "kernelspec": {
   "display_name": "Python 3 (ipykernel)",
   "language": "python",
   "name": "python3"
  },
  "language_info": {
   "codemirror_mode": {
    "name": "ipython",
    "version": 3
   },
   "file_extension": ".py",
   "mimetype": "text/x-python",
   "name": "python",
   "nbconvert_exporter": "python",
   "pygments_lexer": "ipython3",
   "version": "3.8.12"
  }
 },
 "nbformat": 4,
 "nbformat_minor": 5
}
