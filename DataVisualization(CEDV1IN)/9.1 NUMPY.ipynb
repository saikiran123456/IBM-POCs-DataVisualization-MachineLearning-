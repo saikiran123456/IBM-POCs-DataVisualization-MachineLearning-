{
 "cells": [
  {
   "cell_type": "markdown",
   "id": "6ecfc54d",
   "metadata": {},
   "source": [
    "## 9.1 NUMPY  #Saikiran Dasari  IBM (DV)"
   ]
  },
  {
   "cell_type": "markdown",
   "id": "ca2fcd59",
   "metadata": {},
   "source": [
    "## ------------------------------------------------------------"
   ]
  },
  {
   "cell_type": "markdown",
   "id": "97d869d8",
   "metadata": {},
   "source": [
    "Que) What is NUMPY?\n",
    "\n",
    "NumPy is the fundamental package for scientific computing in Python. \n",
    "It is a Python library that provides a multidimensional array object, various derived objects (such as masked arrays and matrices), and an assortment of routines for fast operations on arrays, including mathematical, logical, shape manipulation, sorting, selecting, I/O, discrete Fourier transforms, basic linear algebra, basic statistical operations, random simulation and much more.\n"
   ]
  },
  {
   "cell_type": "markdown",
   "id": "f9c761b5",
   "metadata": {},
   "source": [
    "# ---------------------------------------------------------"
   ]
  },
  {
   "cell_type": "markdown",
   "id": "fb2f7162",
   "metadata": {},
   "source": [
    "Que) Difference between numpy arrays and lists\n",
    "\n",
    "•\tThere are several important differences between NumPy arrays and the standard Python sequences, NumPy arrays have a fixed size at creation, unlike Python lists (which can grow dynamically).\n",
    "\n",
    "•\tThe elements in a NumPy array are all required to be of the same data type, and thus will be the same size in memory. \n",
    "\n",
    "•\t The exception: one can have arrays of (Python, including NumPy) objects, thereby allowing for arrays of different sized elements.\n",
    "\n",
    "•\tNumPy arrays facilitate advanced mathematical and other types of operations on large numbers of data. Typically, such operations are executed more efficiently and with less code than is possible using Python’s built-in sequences.\n"
   ]
  },
  {
   "cell_type": "markdown",
   "id": "0cff04a8",
   "metadata": {},
   "source": [
    "## ----------------------------------------------------------------"
   ]
  },
  {
   "cell_type": "markdown",
   "id": "a0778096",
   "metadata": {},
   "source": [
    "CREATING NUMPY 1D ARRAY\n",
    "\n",
    "A \"numpy\" array or \"ndarray\" is similar to a list. It's usually fixed in size and each element is of the same type, we can cast the list to numpy array by first importing the numpy. Or We can also quickly create the numpy array with arange function which creates an array within the range specified.\n",
    "\n",
    "To verify the dimensionality of this array, use the shape property.\n",
    "\n",
    "In example Since there is no value after the comma (20,) this is a one-dimensional array.\n"
   ]
  },
  {
   "cell_type": "code",
   "execution_count": 4,
   "id": "286a4de4",
   "metadata": {},
   "outputs": [
    {
     "name": "stdout",
     "output_type": "stream",
     "text": [
      "Numpy array a =  [1 2 3 4]\n"
     ]
    }
   ],
   "source": [
    "import numpy as np\n",
    "\n",
    "#Casting a List to Numpy array\n",
    "a = np.array([1,2,3,4])\n",
    "print(\"Numpy array a = \", a)\n"
   ]
  },
  {
   "cell_type": "code",
   "execution_count": 6,
   "id": "f84a2c30",
   "metadata": {},
   "outputs": [
    {
     "name": "stdout",
     "output_type": "stream",
     "text": [
      "Numpy array a =  [ 0  1  2  3  4  5  6  7  8  9 10 11 12 13 14 15 16 17 18 19]\n"
     ]
    }
   ],
   "source": [
    "a = np.arange(20)\n",
    "print('Numpy array a = ', a)\n",
    "# Since there is no value after the comma (20,) this is a one-dimensional array"
   ]
  },
  {
   "cell_type": "code",
   "execution_count": 8,
   "id": "6dbcac11",
   "metadata": {},
   "outputs": [
    {
     "name": "stdout",
     "output_type": "stream",
     "text": [
      "(20,)\n"
     ]
    }
   ],
   "source": [
    "## To verify the dimensionality of this array, use the shape property.\n",
    "## To check dimensionality of array use shape property\n",
    "print(a.shape)"
   ]
  },
  {
   "cell_type": "code",
   "execution_count": null,
   "id": "d58920d5",
   "metadata": {},
   "outputs": [],
   "source": []
  },
  {
   "cell_type": "markdown",
   "id": "1bca1202",
   "metadata": {},
   "source": [
    "### Accessing NUMPY 1D ARRAY"
   ]
  },
  {
   "cell_type": "code",
   "execution_count": 10,
   "id": "ddcdf097",
   "metadata": {},
   "outputs": [
    {
     "name": "stdout",
     "output_type": "stream",
     "text": [
      "Numpy array a =  [1 2 3 4 5 6]\n",
      "a[0] =  1\n",
      "After changing 2nd value to 1000 =  [   1 1000    3    4    5    6]\n",
      "After Slicing =  [   1 1000    3]\n"
     ]
    }
   ],
   "source": [
    "a = np.array([1,2,3,4,5,6])\n",
    "print('Numpy array a = ', a)\n",
    "\n",
    "#Accessing First Element of Numpy array\n",
    "print('a[0] = ', a[0])\n",
    "\n",
    "#Change the 2nd value of Numpy Array to 1000\n",
    "a[1] = 1000\n",
    "print('After changing 2nd value to 1000 = ', a)\n",
    "\n",
    "#Slicing the 1st 3 values from Numpy Array\n",
    "print('After Slicing = ', a[0:3])"
   ]
  },
  {
   "cell_type": "markdown",
   "id": "c6973959",
   "metadata": {},
   "source": [
    "Accessing and slicing operations for 1D array is same as list. Index values starts from 0 to length of the list.\n",
    "\n"
   ]
  },
  {
   "cell_type": "markdown",
   "id": "d6a71eaa",
   "metadata": {},
   "source": [
    "### Creating Numpy 2D Array"
   ]
  },
  {
   "cell_type": "markdown",
   "id": "20cde9ee",
   "metadata": {},
   "source": [
    "If you only use the arrange function, it will output a one-dimensional array. To make it a two-dimensional array, chain its output with the reshape function."
   ]
  },
  {
   "cell_type": "code",
   "execution_count": 12,
   "id": "37256733",
   "metadata": {},
   "outputs": [
    {
     "data": {
      "text/plain": [
       "array([ 0,  1,  2,  3,  4,  5,  6,  7,  8,  9, 10, 11, 12, 13, 14])"
      ]
     },
     "execution_count": 12,
     "metadata": {},
     "output_type": "execute_result"
    }
   ],
   "source": [
    "a = np.arange(15)\n",
    "a\n"
   ]
  },
  {
   "cell_type": "code",
   "execution_count": 35,
   "id": "630bfb2c",
   "metadata": {},
   "outputs": [
    {
     "name": "stdout",
     "output_type": "stream",
     "text": [
      "[[ 0  1  2  3  4]\n",
      " [ 5  6  7  8  9]\n",
      " [10 11 12 13 14]]\n",
      "\n",
      "\n",
      "SHAPE of the Numpy Array is =  (3, 5)\n"
     ]
    }
   ],
   "source": [
    "# In this example first, it will create the 15 integers.. \n",
    "## ..and then it will convert to two dimensional array with 3 rows and 5 columns.\n",
    "a = np.arange(15).reshape(3,5)\n",
    "print(a)\n",
    "print('\\n')\n",
    "print(\"SHAPE of the Numpy Array is = \", a.shape)"
   ]
  },
  {
   "cell_type": "code",
   "execution_count": 23,
   "id": "78b5755f",
   "metadata": {},
   "outputs": [
    {
     "data": {
      "text/plain": [
       "array([[ 0,  1,  2,  3,  4],\n",
       "       [ 5,  6,  7,  8,  9],\n",
       "       [10, 11, 12, 13, 14],\n",
       "       [15, 16, 17, 18, 19]])"
      ]
     },
     "execution_count": 23,
     "metadata": {},
     "output_type": "execute_result"
    }
   ],
   "source": [
    "a = np.arange(20).reshape(4,5)\n",
    "a"
   ]
  },
  {
   "cell_type": "code",
   "execution_count": null,
   "id": "ba991a2f",
   "metadata": {},
   "outputs": [],
   "source": []
  },
  {
   "cell_type": "markdown",
   "id": "28365ece",
   "metadata": {},
   "source": [
    "### Accessing NUMPY 2D Array"
   ]
  },
  {
   "cell_type": "markdown",
   "id": "e89f8aa3",
   "metadata": {},
   "source": [
    "To access an element in a two-dimensional array, you need to specify an index for both the row and the column."
   ]
  },
  {
   "cell_type": "code",
   "execution_count": 41,
   "id": "e13aa089",
   "metadata": {},
   "outputs": [
    {
     "name": "stdout",
     "output_type": "stream",
     "text": [
      "[[ 0  1  2  3  4]\n",
      " [ 5  6  7  8  9]\n",
      " [10 11 12 13 14]]\n",
      "\n",
      "\n",
      "Element in 1st Row and 1st Column =  0\n",
      "Element in 2nd Row and 5th Column =  9\n",
      "Element in 3rd Row and 5th Column =  14\n"
     ]
    }
   ],
   "source": [
    "a = np.arange(15).reshape(3,5)\n",
    "print(a)\n",
    "print(\"\\n\")\n",
    "print(\"Element in 1st Row and 1st Column = \", a[0,0])\n",
    "print(\"Element in 2nd Row and 5th Column = \", a[1,4])\n",
    "print(\"Element in 3rd Row and 5th Column = \", a[2,4])"
   ]
  },
  {
   "cell_type": "code",
   "execution_count": null,
   "id": "708b16bf",
   "metadata": {},
   "outputs": [],
   "source": []
  },
  {
   "cell_type": "code",
   "execution_count": null,
   "id": "5324dc1c",
   "metadata": {},
   "outputs": [],
   "source": []
  }
 ],
 "metadata": {
  "kernelspec": {
   "display_name": "Python 3 (ipykernel)",
   "language": "python",
   "name": "python3"
  },
  "language_info": {
   "codemirror_mode": {
    "name": "ipython",
    "version": 3
   },
   "file_extension": ".py",
   "mimetype": "text/x-python",
   "name": "python",
   "nbconvert_exporter": "python",
   "pygments_lexer": "ipython3",
   "version": "3.8.12"
  }
 },
 "nbformat": 4,
 "nbformat_minor": 5
}
